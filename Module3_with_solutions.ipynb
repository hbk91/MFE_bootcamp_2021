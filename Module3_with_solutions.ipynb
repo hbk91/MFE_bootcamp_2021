{
 "cells": [
  {
   "cell_type": "code",
   "execution_count": null,
   "metadata": {},
   "outputs": [],
   "source": [
    "import numpy as np\n",
    "import pandas as pd\n",
    "df = pd.read_csv(\"stock_data.csv\",parse_dates=['date'])"
   ]
  },
  {
   "cell_type": "markdown",
   "metadata": {},
   "source": [
    "# Logical Statements\n",
    "\n",
    "Booleans are the backbone of logical statements."
   ]
  },
  {
   "cell_type": "code",
   "execution_count": 60,
   "metadata": {},
   "outputs": [
    {
     "ename": "ValueError",
     "evalue": "invalid literal for int() with base 10: 'three'",
     "output_type": "error",
     "traceback": [
      "\u001b[1;31m---------------------------------------------------------------------------\u001b[0m",
      "\u001b[1;31mValueError\u001b[0m                                Traceback (most recent call last)",
      "\u001b[1;32m<ipython-input-60-45a960658c6b>\u001b[0m in \u001b[0;36m<module>\u001b[1;34m\u001b[0m\n\u001b[0;32m      1\u001b[0m \u001b[1;31m# Using the int function\u001b[0m\u001b[1;33m\u001b[0m\u001b[1;33m\u001b[0m\u001b[1;33m\u001b[0m\u001b[0m\n\u001b[1;32m----> 2\u001b[1;33m \u001b[0mint\u001b[0m\u001b[1;33m(\u001b[0m\u001b[1;34m'three'\u001b[0m\u001b[1;33m)\u001b[0m\u001b[1;33m\u001b[0m\u001b[1;33m\u001b[0m\u001b[0m\n\u001b[0m",
      "\u001b[1;31mValueError\u001b[0m: invalid literal for int() with base 10: 'three'"
     ]
    }
   ],
   "source": [
    "# Using the int function\n",
    "int('three')"
   ]
  },
  {
   "cell_type": "code",
   "execution_count": 72,
   "metadata": {},
   "outputs": [
    {
     "data": {
      "text/plain": [
       "True"
      ]
     },
     "execution_count": 72,
     "metadata": {},
     "output_type": "execute_result"
    }
   ],
   "source": [
    "# understanding the bool function - similar to int(object)\n",
    "import numpy as np\n",
    "bool(3)\n",
    "# unless we pass 0, '', None, [], (), {} - bool function will always return True"
   ]
  },
  {
   "cell_type": "code",
   "execution_count": 65,
   "metadata": {},
   "outputs": [
    {
     "name": "stdout",
     "output_type": "stream",
     "text": [
      "True\n"
     ]
    }
   ],
   "source": [
    "# Generating booleans\n",
    "a = 7\n",
    "b = 5\n",
    "print(a>b)"
   ]
  },
  {
   "cell_type": "code",
   "execution_count": 66,
   "metadata": {},
   "outputs": [
    {
     "data": {
      "text/plain": [
       "True"
      ]
     },
     "execution_count": 66,
     "metadata": {},
     "output_type": "execute_result"
    }
   ],
   "source": [
    "# Value of boolean\n",
    "1 == True"
   ]
  },
  {
   "cell_type": "markdown",
   "metadata": {},
   "source": [
    "### If Statement"
   ]
  },
  {
   "cell_type": "code",
   "execution_count": null,
   "metadata": {},
   "outputs": [],
   "source": [
    "# if condition :\n",
    "    # Perform action1 (this section of code is indented)\n",
    "    # Perform action2"
   ]
  },
  {
   "cell_type": "code",
   "execution_count": 70,
   "metadata": {},
   "outputs": [
    {
     "name": "stdout",
     "output_type": "stream",
     "text": [
      "a is less than b\n"
     ]
    }
   ],
   "source": [
    "# Using booleans in if statement : Syntax if True : execute; if False : exit\n",
    "a=5\n",
    "b=7\n",
    "if a<b :\n",
    "    print(\"a is less than b\")"
   ]
  },
  {
   "cell_type": "code",
   "execution_count": 71,
   "metadata": {},
   "outputs": [
    {
     "name": "stdout",
     "output_type": "stream",
     "text": [
      "something\n"
     ]
    }
   ],
   "source": [
    "# If any non-zero value is always True\n",
    "if bool(3) :\n",
    "    print(\"something\")"
   ]
  },
  {
   "cell_type": "code",
   "execution_count": 74,
   "metadata": {},
   "outputs": [
    {
     "name": "stdout",
     "output_type": "stream",
     "text": [
      "True\n"
     ]
    },
    {
     "data": {
      "text/plain": [
       "array([ True,  True,  True])"
      ]
     },
     "execution_count": 74,
     "metadata": {},
     "output_type": "execute_result"
    }
   ],
   "source": [
    "# Re-evaluating the NumPy .all function\n",
    "my_array = np.array([1,2,3])\n",
    "print((my_array>0).all()) # .all checks if all the values are True - inspiration for 'and' statement\n",
    "(my_array>0)"
   ]
  },
  {
   "cell_type": "code",
   "execution_count": 79,
   "metadata": {},
   "outputs": [
    {
     "data": {
      "text/plain": [
       "True"
      ]
     },
     "execution_count": 79,
     "metadata": {},
     "output_type": "execute_result"
    }
   ],
   "source": [
    "# Pandas .all and .any functions\n",
    "df1 = pd.Series([1,2,3])\n",
    "(df1>1).any()"
   ]
  },
  {
   "cell_type": "markdown",
   "metadata": {},
   "source": [
    "### And Statement\n",
    "\n",
    "Allows us to compare multiple booleans. \"And\" statement gets executed only if all the conditions are True."
   ]
  },
  {
   "cell_type": "code",
   "execution_count": 80,
   "metadata": {},
   "outputs": [
    {
     "data": {
      "text/plain": [
       "True"
      ]
     },
     "execution_count": 80,
     "metadata": {},
     "output_type": "execute_result"
    }
   ],
   "source": [
    "# Combining two true statements by and\n",
    "True and True"
   ]
  },
  {
   "cell_type": "code",
   "execution_count": 82,
   "metadata": {},
   "outputs": [
    {
     "data": {
      "text/plain": [
       "False"
      ]
     },
     "execution_count": 82,
     "metadata": {},
     "output_type": "execute_result"
    }
   ],
   "source": [
    "# Combining a true and a false boolean\n",
    "False and False"
   ]
  },
  {
   "cell_type": "code",
   "execution_count": 83,
   "metadata": {},
   "outputs": [
    {
     "name": "stdout",
     "output_type": "stream",
     "text": [
      "success\n"
     ]
    }
   ],
   "source": [
    "# More than 2 conditions\n",
    "a = 1\n",
    "b = 2\n",
    "c = 3\n",
    "if (a==1) and (b==2) and (c==3):\n",
    "    print('success')"
   ]
  },
  {
   "cell_type": "code",
   "execution_count": 85,
   "metadata": {},
   "outputs": [
    {
     "name": "stdout",
     "output_type": "stream",
     "text": [
      "success\n",
      "something else\n"
     ]
    }
   ],
   "source": [
    "# Again any value other than zero are treated as true by Python\n",
    "if 3 and 4 and 5 : \n",
    "    print('success')\n",
    "    print(\"something else\")"
   ]
  },
  {
   "cell_type": "markdown",
   "metadata": {},
   "source": [
    "### Or Statement\n",
    "\n",
    "For the or statement to get executed, at least one of the conditions must be true."
   ]
  },
  {
   "cell_type": "code",
   "execution_count": 86,
   "metadata": {},
   "outputs": [
    {
     "data": {
      "text/plain": [
       "True"
      ]
     },
     "execution_count": 86,
     "metadata": {},
     "output_type": "execute_result"
    }
   ],
   "source": [
    "# Combining two true booleans\n",
    "True or True "
   ]
  },
  {
   "cell_type": "code",
   "execution_count": 88,
   "metadata": {},
   "outputs": [
    {
     "data": {
      "text/plain": [
       "False"
      ]
     },
     "execution_count": 88,
     "metadata": {},
     "output_type": "execute_result"
    }
   ],
   "source": [
    "# Combining a true and a false boolean\n",
    "False or False"
   ]
  },
  {
   "cell_type": "code",
   "execution_count": 89,
   "metadata": {},
   "outputs": [
    {
     "name": "stdout",
     "output_type": "stream",
     "text": [
      "success\n"
     ]
    }
   ],
   "source": [
    "# More than 2 conditions\n",
    "a = 1\n",
    "b = 2\n",
    "c = 3\n",
    "if (a==1) or (b==1) or (c==1):print('success')"
   ]
  },
  {
   "cell_type": "markdown",
   "metadata": {},
   "source": [
    "### If, Elif, and Else"
   ]
  },
  {
   "cell_type": "code",
   "execution_count": null,
   "metadata": {},
   "outputs": [],
   "source": [
    "# if test1:\n",
    "    # if test1 is true, do this\n",
    "# elif test2:\n",
    "    # if test2 is true, do this\n",
    "# else : \n",
    "    # if none of the above are true, then do this"
   ]
  },
  {
   "cell_type": "code",
   "execution_count": 92,
   "metadata": {},
   "outputs": [
    {
     "name": "stdout",
     "output_type": "stream",
     "text": [
      "A\n"
     ]
    }
   ],
   "source": [
    "# A simple example of if, elif, and else statement\n",
    "a = 10\n",
    "\n",
    "if a<=10 : \n",
    "    print('A')\n",
    "elif (a>10) and (a<100) : \n",
    "    print('B')\n",
    "else :\n",
    "    print('C')"
   ]
  },
  {
   "cell_type": "markdown",
   "metadata": {},
   "source": [
    "# Loops\n",
    "\n",
    "Python has two loop commands - For and While loop. Operations on individual elements can be generalized using a loop in Python."
   ]
  },
  {
   "cell_type": "markdown",
   "metadata": {},
   "source": [
    "### While Loop"
   ]
  },
  {
   "cell_type": "code",
   "execution_count": 95,
   "metadata": {},
   "outputs": [
    {
     "name": "stdout",
     "output_type": "stream",
     "text": [
      "0\n",
      "0.5\n",
      "1.0\n",
      "1.5\n",
      "2.0\n",
      "2.5\n",
      "3.0\n",
      "3.5\n",
      "4.0\n",
      "4.5\n",
      "5.0\n",
      "5.5\n"
     ]
    }
   ],
   "source": [
    "# As long as a condition is true, While loop is executed\n",
    "i=0\n",
    "while i<6:\n",
    "    print(i)\n",
    "    if ():i=i+0.5 # Can be replaced with i=i+0.5\n",
    "    "
   ]
  },
  {
   "cell_type": "code",
   "execution_count": 96,
   "metadata": {},
   "outputs": [
    {
     "name": "stdout",
     "output_type": "stream",
     "text": [
      "0\n",
      "1\n",
      "2\n"
     ]
    }
   ],
   "source": [
    "# While loops with \"break\"\n",
    "# Break statement essentially stops running the loop if encountered\n",
    "i=0\n",
    "while i<5:\n",
    "    # do something more meaningful\n",
    "    if i==3:break\n",
    "    print(i)\n",
    "    i=i+1"
   ]
  },
  {
   "cell_type": "code",
   "execution_count": 100,
   "metadata": {},
   "outputs": [
    {
     "name": "stdout",
     "output_type": "stream",
     "text": [
      "3\n",
      "14\n",
      "84\n",
      "155\n"
     ]
    }
   ],
   "source": [
    "# While loops with \"continue\"\n",
    "# Continue statement skips \n",
    "i=0\n",
    "while i<5:\n",
    "    i=i+1 # Does not matter where i=i+1 is present inside the indentation of while loop\n",
    "    if i==3:continue # should be present before our mathematical operation \n",
    "    #print(i)\n",
    "    print(i+i**2+i**3)"
   ]
  },
  {
   "cell_type": "code",
   "execution_count": null,
   "metadata": {},
   "outputs": [],
   "source": []
  },
  {
   "cell_type": "markdown",
   "metadata": {},
   "source": [
    "### For Loop"
   ]
  },
  {
   "cell_type": "code",
   "execution_count": 102,
   "metadata": {},
   "outputs": [
    {
     "data": {
      "text/plain": [
       "64"
      ]
     },
     "execution_count": 102,
     "metadata": {},
     "output_type": "execute_result"
    }
   ],
   "source": [
    "# Defining an array and iterating through the array\n",
    "my_array = np.array([1,2,3,4,5])\n",
    "\n",
    "# Example of an opeartion \n",
    "(my_array[2]+my_array[0])**(my_array[3]-my_array[0])"
   ]
  },
  {
   "cell_type": "code",
   "execution_count": 103,
   "metadata": {},
   "outputs": [
    {
     "name": "stdout",
     "output_type": "stream",
     "text": [
      "1\n",
      "2\n",
      "3\n",
      "4\n",
      "5\n"
     ]
    }
   ],
   "source": [
    "# Simple syntax of for loop\n",
    "# Similar to if-statement, for loop starts with first indentation and ends at first un-indented line\n",
    "for x in my_array:\n",
    "    print(x)"
   ]
  },
  {
   "cell_type": "code",
   "execution_count": 109,
   "metadata": {},
   "outputs": [
    {
     "data": {
      "text/plain": [
       "[0, 2, 4]"
      ]
     },
     "execution_count": 109,
     "metadata": {},
     "output_type": "execute_result"
    }
   ],
   "source": [
    "# range function - similar to np.arange()\n",
    "list(range(5)) # gives us a range object in the range class"
   ]
  },
  {
   "cell_type": "code",
   "execution_count": 111,
   "metadata": {},
   "outputs": [
    {
     "data": {
      "text/plain": [
       "[10, 12, 14, 16, 18]"
      ]
     },
     "execution_count": 111,
     "metadata": {},
     "output_type": "execute_result"
    }
   ],
   "source": [
    "list(range(10,20,2))"
   ]
  },
  {
   "cell_type": "code",
   "execution_count": 110,
   "metadata": {},
   "outputs": [
    {
     "data": {
      "text/plain": [
       "array([10, 12, 14, 16, 18])"
      ]
     },
     "execution_count": 110,
     "metadata": {},
     "output_type": "execute_result"
    }
   ],
   "source": [
    "np.arange(10,20,2)"
   ]
  },
  {
   "cell_type": "code",
   "execution_count": 112,
   "metadata": {},
   "outputs": [
    {
     "name": "stdout",
     "output_type": "stream",
     "text": [
      "1\n",
      "2\n",
      "3\n",
      "4\n",
      "5\n"
     ]
    }
   ],
   "source": [
    "# For loop with range\n",
    "for i in range(len(my_array)):\n",
    "    print(my_array[i])"
   ]
  },
  {
   "cell_type": "markdown",
   "metadata": {},
   "source": [
    "### List Comprehension\n",
    "\n",
    "Instead of entering data/objects inside [.] for generating lists, in list comprehensions you enter for loops and if statements within [.] to evaluate your expression. "
   ]
  },
  {
   "cell_type": "code",
   "execution_count": 123,
   "metadata": {},
   "outputs": [
    {
     "name": "stdout",
     "output_type": "stream",
     "text": [
      "[1.00000000e+00 2.71828183e+00 7.38905610e+00 2.00855369e+01\n",
      " 5.45981500e+01 1.48413159e+02 4.03428793e+02 1.09663316e+03\n",
      " 2.98095799e+03 8.10308393e+03]\n",
      "1.0\n",
      "2.718281828459045\n",
      "7.38905609893065\n",
      "20.085536923187668\n",
      "54.598150033144236\n",
      "148.4131591025766\n",
      "403.4287934927351\n",
      "1096.6331584284585\n",
      "2980.9579870417283\n",
      "8103.083927575384\n"
     ]
    }
   ],
   "source": [
    "# Printing the list we will work on\n",
    "tuple(range(10))\n",
    "print(np.exp(range(10)))\n",
    "for i in range(10):\n",
    "    print(np.exp(i))"
   ]
  },
  {
   "cell_type": "code",
   "execution_count": 114,
   "metadata": {},
   "outputs": [
    {
     "data": {
      "text/plain": [
       "[0, 1, 4, 9, 16, 25, 36, 49, 64, 81]"
      ]
     },
     "execution_count": 114,
     "metadata": {},
     "output_type": "execute_result"
    }
   ],
   "source": [
    "# Creating a new list with squares of first 5 integers\n",
    "my_list1 = [] # Initiating an empty list\n",
    "for i in range(10):\n",
    "    my_list1.append(i**2) # Appending the square of the integer\n",
    "my_list1[3]"
   ]
  },
  {
   "cell_type": "code",
   "execution_count": 115,
   "metadata": {},
   "outputs": [
    {
     "data": {
      "text/plain": [
       "[0, 1, 4, 9, 16, 25, 36, 49, 64, 81]"
      ]
     },
     "execution_count": 115,
     "metadata": {},
     "output_type": "execute_result"
    }
   ],
   "source": [
    "# An alternate concise way to create lists without calling a for loop and storing output\n",
    "# Syntax is [expression for items in collection if <test condition>]\n",
    "my_list2 = [x**2 for x in range(10)] # saves us creating a blank list, indendations and appending\n",
    "my_list2"
   ]
  },
  {
   "cell_type": "code",
   "execution_count": 117,
   "metadata": {},
   "outputs": [
    {
     "data": {
      "text/plain": [
       "[16, 36, 64]"
      ]
     },
     "execution_count": 117,
     "metadata": {},
     "output_type": "execute_result"
    }
   ],
   "source": [
    "# Adding an if statement (calculating squares of even numbers only)\n",
    "my_list3 = [x**2 for x in range(10) if (x%2==0 and x>=4)] \n",
    "my_list3"
   ]
  },
  {
   "cell_type": "markdown",
   "metadata": {},
   "source": [
    "# Functions\n",
    "\n",
    "Calculations and logical operations that need to be used repeatedly can be done so using a function."
   ]
  },
  {
   "cell_type": "code",
   "execution_count": 124,
   "metadata": {},
   "outputs": [],
   "source": [
    "# Syntax for defining a function\n",
    "# def function (#arguments) : return\n",
    "# Similar to loops, code is grouped inside a function through indentation\n",
    "def my_function():\n",
    "    pass "
   ]
  },
  {
   "cell_type": "code",
   "execution_count": 125,
   "metadata": {},
   "outputs": [
    {
     "name": "stdout",
     "output_type": "stream",
     "text": [
      "<class 'function'>\n",
      "2086934326944\n"
     ]
    }
   ],
   "source": [
    "# Functions are also objects in python\n",
    "print(type(my_function))\n",
    "print(id(my_function))\n",
    "# Functions in python are first class objects!\n",
    "# First class basically means that the function has - type, passed into other functions (as arguments), etc."
   ]
  },
  {
   "cell_type": "code",
   "execution_count": 127,
   "metadata": {},
   "outputs": [],
   "source": [
    "# Checking the output of the function created above\n",
    "#my_function\n",
    "my_function()"
   ]
  },
  {
   "cell_type": "code",
   "execution_count": 138,
   "metadata": {},
   "outputs": [],
   "source": [
    "# Creating a function that does something\n",
    "from math import pi\n",
    "def area(x):\n",
    "    \"\"\" Function returns the area of the circle \"\"\"\n",
    "    if x<0:print(\"Pass in the right value!\")\n",
    "    else : return pi*x**2"
   ]
  },
  {
   "cell_type": "code",
   "execution_count": 137,
   "metadata": {},
   "outputs": [
    {
     "name": "stdout",
     "output_type": "stream",
     "text": [
      "Pass in the right value!\n"
     ]
    }
   ],
   "source": [
    "# Reading the docstring of the function\n",
    "#area?\n",
    "#area(5)\n",
    "area(-5) # not good programming practice"
   ]
  },
  {
   "cell_type": "code",
   "execution_count": 139,
   "metadata": {},
   "outputs": [
    {
     "ename": "TypeError",
     "evalue": "area() missing 1 required positional argument: 'x'",
     "output_type": "error",
     "traceback": [
      "\u001b[1;31m---------------------------------------------------------------------------\u001b[0m",
      "\u001b[1;31mTypeError\u001b[0m                                 Traceback (most recent call last)",
      "\u001b[1;32m<ipython-input-139-3869f34748ca>\u001b[0m in \u001b[0;36m<module>\u001b[1;34m\u001b[0m\n\u001b[0;32m      1\u001b[0m \u001b[1;31m# Error when we don't pass a required variable \"x\"\u001b[0m\u001b[1;33m\u001b[0m\u001b[1;33m\u001b[0m\u001b[1;33m\u001b[0m\u001b[0m\n\u001b[1;32m----> 2\u001b[1;33m \u001b[0marea\u001b[0m\u001b[1;33m(\u001b[0m\u001b[1;33m)\u001b[0m\u001b[1;33m\u001b[0m\u001b[1;33m\u001b[0m\u001b[0m\n\u001b[0m",
      "\u001b[1;31mTypeError\u001b[0m: area() missing 1 required positional argument: 'x'"
     ]
    }
   ],
   "source": [
    "# Error when we don't pass a required variable \"x\"\n",
    "area()"
   ]
  },
  {
   "cell_type": "code",
   "execution_count": 140,
   "metadata": {},
   "outputs": [
    {
     "data": {
      "text/plain": [
       "[0.0,\n",
       " 3.141592653589793,\n",
       " 12.566370614359172,\n",
       " 28.274333882308138,\n",
       " 50.26548245743669,\n",
       " 78.53981633974483,\n",
       " 113.09733552923255,\n",
       " 153.93804002589985,\n",
       " 201.06192982974676,\n",
       " 254.46900494077323]"
      ]
     },
     "execution_count": 140,
     "metadata": {},
     "output_type": "execute_result"
    }
   ],
   "source": [
    "# Using the function in a list comprehension\n",
    "[area(r) for r in range(10)]"
   ]
  },
  {
   "cell_type": "code",
   "execution_count": null,
   "metadata": {},
   "outputs": [],
   "source": [
    "# Passing a numpy array inside the function\n",
    "area(np.array([1,2,3]))"
   ]
  },
  {
   "cell_type": "code",
   "execution_count": 141,
   "metadata": {},
   "outputs": [],
   "source": [
    "# Modifying the area function\n",
    "def area(x=10):\n",
    "    \"\"\"\" Function returns the area of the circle \"\"\"\n",
    "    return pi*x**2"
   ]
  },
  {
   "cell_type": "code",
   "execution_count": 142,
   "metadata": {},
   "outputs": [
    {
     "data": {
      "text/plain": [
       "314.1592653589793"
      ]
     },
     "execution_count": 142,
     "metadata": {},
     "output_type": "execute_result"
    }
   ],
   "source": [
    "# Running function without specifying the key-word argument \"x\"\n",
    "area() "
   ]
  },
  {
   "cell_type": "code",
   "execution_count": 146,
   "metadata": {},
   "outputs": [],
   "source": [
    "# Creating a function with required and key-word arguments\n",
    "def mfe_co_2022(input1=10,input2=5): # first required arguments and then key word arguments\n",
    "    \"\"\"This function returns the product of two numbers\"\"\"\n",
    "    return input1*input2"
   ]
  },
  {
   "cell_type": "code",
   "execution_count": 147,
   "metadata": {},
   "outputs": [
    {
     "data": {
      "text/plain": [
       "50"
      ]
     },
     "execution_count": 147,
     "metadata": {},
     "output_type": "execute_result"
    }
   ],
   "source": [
    "# Calling the function\n",
    "mfe_co_2022()"
   ]
  },
  {
   "cell_type": "code",
   "execution_count": null,
   "metadata": {},
   "outputs": [],
   "source": [
    "type(mfe_co_2022)"
   ]
  },
  {
   "cell_type": "code",
   "execution_count": null,
   "metadata": {},
   "outputs": [],
   "source": [
    "# Dealing with errors we know can occur by raise  \n",
    "def function(n):\n",
    "    if n%1 != 0 : raise TypeError(\"Enter an integer!!\")\n",
    "    else : print(n)\n",
    "    #if n<0 : raise ValueError(\"Your programming not so good\")\n",
    "    #else : print(np.sqrt(n))\n",
    "\n",
    "function(-1)"
   ]
  },
  {
   "cell_type": "markdown",
   "metadata": {},
   "source": [
    "### Lambda - Anonymous Functions\n",
    "\n",
    "The lambda function can take many inputs, but can only have one output."
   ]
  },
  {
   "cell_type": "code",
   "execution_count": 152,
   "metadata": {},
   "outputs": [
    {
     "data": {
      "text/plain": [
       "1"
      ]
     },
     "execution_count": 152,
     "metadata": {},
     "output_type": "execute_result"
    }
   ],
   "source": [
    "# Syntax for the lambda function\n",
    "# lambda inputs : output\n",
    "#z = lambda x : print(x) # A single line function only\n",
    "#z(10)\n",
    "remainder = lambda num: num % 2 # A lambda function that gets us remainder of dividing with 2\n",
    "remainder(5)"
   ]
  },
  {
   "cell_type": "code",
   "execution_count": 153,
   "metadata": {},
   "outputs": [
    {
     "data": {
      "text/plain": [
       "9"
      ]
     },
     "execution_count": 153,
     "metadata": {},
     "output_type": "execute_result"
    }
   ],
   "source": [
    "# Defining a function that squares a number\n",
    "def square(x) : return x**2\n",
    "square(3)"
   ]
  },
  {
   "cell_type": "code",
   "execution_count": 154,
   "metadata": {},
   "outputs": [
    {
     "data": {
      "text/plain": [
       "9"
      ]
     },
     "execution_count": 154,
     "metadata": {},
     "output_type": "execute_result"
    }
   ],
   "source": [
    "# Creating a lambda function\n",
    "# We are assigning the lambda function to x; So x is a function with no name\n",
    "#lambda i : i**2\n",
    "x = lambda i : i**2\n",
    "x(3)"
   ]
  },
  {
   "cell_type": "code",
   "execution_count": 157,
   "metadata": {},
   "outputs": [
    {
     "data": {
      "text/plain": [
       "array([  1.        ,   2.71828183,   7.3890561 ,  20.08553692,\n",
       "        54.59815003, 148.4131591 ])"
      ]
     },
     "execution_count": 157,
     "metadata": {},
     "output_type": "execute_result"
    }
   ],
   "source": [
    "# Passing a numpy array through the lambda function\n",
    "my_array = np.linspace(0,5,6)\n",
    "my_array\n",
    "fun = lambda x : np.exp(x)\n",
    "fun(my_array)"
   ]
  },
  {
   "cell_type": "code",
   "execution_count": 158,
   "metadata": {},
   "outputs": [
    {
     "data": {
      "text/plain": [
       "6"
      ]
     },
     "execution_count": 158,
     "metadata": {},
     "output_type": "execute_result"
    }
   ],
   "source": [
    "random = lambda x,y : x+y\n",
    "random(2,4)"
   ]
  },
  {
   "cell_type": "markdown",
   "metadata": {},
   "source": [
    "### Pandas Apply\n",
    "\n",
    "The apply function can be used on a pandas series and on a pandas dataframe. Usually, groupby, apply, and the lambda functions go together."
   ]
  },
  {
   "cell_type": "code",
   "execution_count": 211,
   "metadata": {},
   "outputs": [
    {
     "data": {
      "text/html": [
       "<div>\n",
       "<style scoped>\n",
       "    .dataframe tbody tr th:only-of-type {\n",
       "        vertical-align: middle;\n",
       "    }\n",
       "\n",
       "    .dataframe tbody tr th {\n",
       "        vertical-align: top;\n",
       "    }\n",
       "\n",
       "    .dataframe thead tr th {\n",
       "        text-align: left;\n",
       "    }\n",
       "</style>\n",
       "<table border=\"1\" class=\"dataframe\">\n",
       "  <thead>\n",
       "    <tr>\n",
       "      <th></th>\n",
       "      <th>A</th>\n",
       "      <th>B</th>\n",
       "      <th>C</th>\n",
       "      <th>D</th>\n",
       "      <th>E</th>\n",
       "    </tr>\n",
       "  </thead>\n",
       "  <tbody>\n",
       "    <tr>\n",
       "      <th>0</th>\n",
       "      <td>0.117682</td>\n",
       "      <td>0.779023</td>\n",
       "      <td>0.257671</td>\n",
       "      <td>0.669399</td>\n",
       "      <td>0.623005</td>\n",
       "    </tr>\n",
       "    <tr>\n",
       "      <th>1</th>\n",
       "      <td>0.830715</td>\n",
       "      <td>0.545309</td>\n",
       "      <td>0.927907</td>\n",
       "      <td>0.466767</td>\n",
       "      <td>0.971410</td>\n",
       "    </tr>\n",
       "    <tr>\n",
       "      <th>2</th>\n",
       "      <td>0.926069</td>\n",
       "      <td>0.868458</td>\n",
       "      <td>0.275651</td>\n",
       "      <td>0.010585</td>\n",
       "      <td>0.896421</td>\n",
       "    </tr>\n",
       "    <tr>\n",
       "      <th>3</th>\n",
       "      <td>0.508230</td>\n",
       "      <td>0.935353</td>\n",
       "      <td>0.046743</td>\n",
       "      <td>0.299056</td>\n",
       "      <td>0.259137</td>\n",
       "    </tr>\n",
       "    <tr>\n",
       "      <th>4</th>\n",
       "      <td>0.717015</td>\n",
       "      <td>0.768157</td>\n",
       "      <td>0.245443</td>\n",
       "      <td>0.282746</td>\n",
       "      <td>0.784095</td>\n",
       "    </tr>\n",
       "  </tbody>\n",
       "</table>\n",
       "</div>"
      ],
      "text/plain": [
       "          A         B         C         D         E\n",
       "0  0.117682  0.779023  0.257671  0.669399  0.623005\n",
       "1  0.830715  0.545309  0.927907  0.466767  0.971410\n",
       "2  0.926069  0.868458  0.275651  0.010585  0.896421\n",
       "3  0.508230  0.935353  0.046743  0.299056  0.259137\n",
       "4  0.717015  0.768157  0.245443  0.282746  0.784095"
      ]
     },
     "execution_count": 211,
     "metadata": {},
     "output_type": "execute_result"
    }
   ],
   "source": [
    "# Creating a random dataframe\n",
    "df = pd.DataFrame(np.linspace(0,10,100).reshape(20,5),columns=[\"A B C D E\".split()])\n",
    "df.head()\n",
    "\n",
    "df = pd.DataFrame(np.random.rand(20,5),columns=[\"A B C D E\".split()])\n",
    "df.head()"
   ]
  },
  {
   "cell_type": "code",
   "execution_count": 160,
   "metadata": {},
   "outputs": [
    {
     "data": {
      "text/html": [
       "<div>\n",
       "<style scoped>\n",
       "    .dataframe tbody tr th:only-of-type {\n",
       "        vertical-align: middle;\n",
       "    }\n",
       "\n",
       "    .dataframe tbody tr th {\n",
       "        vertical-align: top;\n",
       "    }\n",
       "\n",
       "    .dataframe thead tr th {\n",
       "        text-align: left;\n",
       "    }\n",
       "</style>\n",
       "<table border=\"1\" class=\"dataframe\">\n",
       "  <thead>\n",
       "    <tr>\n",
       "      <th></th>\n",
       "      <th>A</th>\n",
       "    </tr>\n",
       "  </thead>\n",
       "  <tbody>\n",
       "    <tr>\n",
       "      <th>0</th>\n",
       "      <td>1.000000</td>\n",
       "    </tr>\n",
       "    <tr>\n",
       "      <th>1</th>\n",
       "      <td>1.657069</td>\n",
       "    </tr>\n",
       "    <tr>\n",
       "      <th>2</th>\n",
       "      <td>2.745878</td>\n",
       "    </tr>\n",
       "    <tr>\n",
       "      <th>3</th>\n",
       "      <td>4.550110</td>\n",
       "    </tr>\n",
       "    <tr>\n",
       "      <th>4</th>\n",
       "      <td>7.539848</td>\n",
       "    </tr>\n",
       "    <tr>\n",
       "      <th>5</th>\n",
       "      <td>12.494050</td>\n",
       "    </tr>\n",
       "    <tr>\n",
       "      <th>6</th>\n",
       "      <td>20.703505</td>\n",
       "    </tr>\n",
       "    <tr>\n",
       "      <th>7</th>\n",
       "      <td>34.307141</td>\n",
       "    </tr>\n",
       "    <tr>\n",
       "      <th>8</th>\n",
       "      <td>56.849308</td>\n",
       "    </tr>\n",
       "    <tr>\n",
       "      <th>9</th>\n",
       "      <td>94.203237</td>\n",
       "    </tr>\n",
       "    <tr>\n",
       "      <th>10</th>\n",
       "      <td>156.101284</td>\n",
       "    </tr>\n",
       "    <tr>\n",
       "      <th>11</th>\n",
       "      <td>258.670631</td>\n",
       "    </tr>\n",
       "    <tr>\n",
       "      <th>12</th>\n",
       "      <td>428.635137</td>\n",
       "    </tr>\n",
       "    <tr>\n",
       "      <th>13</th>\n",
       "      <td>710.278087</td>\n",
       "    </tr>\n",
       "    <tr>\n",
       "      <th>14</th>\n",
       "      <td>1176.979948</td>\n",
       "    </tr>\n",
       "    <tr>\n",
       "      <th>15</th>\n",
       "      <td>1950.337231</td>\n",
       "    </tr>\n",
       "    <tr>\n",
       "      <th>16</th>\n",
       "      <td>3231.843773</td>\n",
       "    </tr>\n",
       "    <tr>\n",
       "      <th>17</th>\n",
       "      <td>5355.388803</td>\n",
       "    </tr>\n",
       "    <tr>\n",
       "      <th>18</th>\n",
       "      <td>8874.249886</td>\n",
       "    </tr>\n",
       "    <tr>\n",
       "      <th>19</th>\n",
       "      <td>14705.246237</td>\n",
       "    </tr>\n",
       "  </tbody>\n",
       "</table>\n",
       "</div>"
      ],
      "text/plain": [
       "               A\n",
       "0       1.000000\n",
       "1       1.657069\n",
       "2       2.745878\n",
       "3       4.550110\n",
       "4       7.539848\n",
       "5      12.494050\n",
       "6      20.703505\n",
       "7      34.307141\n",
       "8      56.849308\n",
       "9      94.203237\n",
       "10    156.101284\n",
       "11    258.670631\n",
       "12    428.635137\n",
       "13    710.278087\n",
       "14   1176.979948\n",
       "15   1950.337231\n",
       "16   3231.843773\n",
       "17   5355.388803\n",
       "18   8874.249886\n",
       "19  14705.246237"
      ]
     },
     "execution_count": 160,
     "metadata": {},
     "output_type": "execute_result"
    }
   ],
   "source": [
    "# Apply function on a pandas data series\n",
    "df[['A']].apply(np.exp) # calculating the exponential at each value of series A"
   ]
  },
  {
   "cell_type": "code",
   "execution_count": 163,
   "metadata": {},
   "outputs": [
    {
     "data": {
      "text/plain": [
       "A     9.59596\n",
       "B     9.69697\n",
       "C     9.79798\n",
       "D     9.89899\n",
       "E    10.00000\n",
       "dtype: float64"
      ]
     },
     "execution_count": 163,
     "metadata": {},
     "output_type": "execute_result"
    }
   ],
   "source": [
    "# Apply function on a pandas data frame\n",
    "df.apply(np.max,axis=0).head() # axis=0 is along the column, axis=1 is along each row"
   ]
  },
  {
   "cell_type": "code",
   "execution_count": 213,
   "metadata": {},
   "outputs": [
    {
     "data": {
      "text/plain": [
       "0     0.661342\n",
       "1     0.382598\n",
       "2     0.650418\n",
       "3     0.888610\n",
       "4     0.522715\n",
       "5     0.857465\n",
       "6     0.398273\n",
       "7     0.625175\n",
       "8     0.308838\n",
       "9     0.352818\n",
       "10    0.390447\n",
       "11    0.408759\n",
       "12    0.850262\n",
       "13    0.695020\n",
       "14    0.599406\n",
       "15    0.836677\n",
       "16    0.139064\n",
       "17    0.327071\n",
       "18    0.652425\n",
       "19    0.521087\n",
       "dtype: float64"
      ]
     },
     "execution_count": 213,
     "metadata": {},
     "output_type": "execute_result"
    }
   ],
   "source": [
    "# What if you want to apply a convoluted function say max-min\n",
    "#df[['A','B','C']].apply(np.max-np.min,axis=0)\n",
    "\n",
    "# This is where lambda functions come handy inside the apply function\n",
    "df[['A','B','C']].apply(lambda x : x.max()-x.min(),axis=1)"
   ]
  },
  {
   "cell_type": "code",
   "execution_count": 197,
   "metadata": {},
   "outputs": [
    {
     "data": {
      "text/html": [
       "<div>\n",
       "<style scoped>\n",
       "    .dataframe tbody tr th:only-of-type {\n",
       "        vertical-align: middle;\n",
       "    }\n",
       "\n",
       "    .dataframe tbody tr th {\n",
       "        vertical-align: top;\n",
       "    }\n",
       "\n",
       "    .dataframe thead th {\n",
       "        text-align: right;\n",
       "    }\n",
       "</style>\n",
       "<table border=\"1\" class=\"dataframe\">\n",
       "  <thead>\n",
       "    <tr style=\"text-align: right;\">\n",
       "      <th></th>\n",
       "      <th>permno</th>\n",
       "      <th>company_name</th>\n",
       "      <th>date</th>\n",
       "      <th>total_returns</th>\n",
       "      <th>price</th>\n",
       "      <th>share_outstanding</th>\n",
       "    </tr>\n",
       "  </thead>\n",
       "  <tbody>\n",
       "    <tr>\n",
       "      <th>0</th>\n",
       "      <td>10001</td>\n",
       "      <td>ENERGY INC</td>\n",
       "      <td>2009-12-31</td>\n",
       "      <td>0.162621</td>\n",
       "      <td>10.3000</td>\n",
       "      <td>4361</td>\n",
       "    </tr>\n",
       "    <tr>\n",
       "      <th>1</th>\n",
       "      <td>10001</td>\n",
       "      <td>ENERGY INC</td>\n",
       "      <td>2010-01-31</td>\n",
       "      <td>-0.018932</td>\n",
       "      <td>10.0600</td>\n",
       "      <td>4361</td>\n",
       "    </tr>\n",
       "    <tr>\n",
       "      <th>2</th>\n",
       "      <td>10001</td>\n",
       "      <td>ENERGY INC</td>\n",
       "      <td>2010-02-28</td>\n",
       "      <td>-0.000656</td>\n",
       "      <td>10.0084</td>\n",
       "      <td>4361</td>\n",
       "    </tr>\n",
       "    <tr>\n",
       "      <th>3</th>\n",
       "      <td>10001</td>\n",
       "      <td>ENERGY INC</td>\n",
       "      <td>2010-03-31</td>\n",
       "      <td>0.020643</td>\n",
       "      <td>10.1700</td>\n",
       "      <td>4361</td>\n",
       "    </tr>\n",
       "    <tr>\n",
       "      <th>4</th>\n",
       "      <td>10001</td>\n",
       "      <td>ENERGY INC</td>\n",
       "      <td>2010-04-30</td>\n",
       "      <td>0.124385</td>\n",
       "      <td>11.3900</td>\n",
       "      <td>6070</td>\n",
       "    </tr>\n",
       "  </tbody>\n",
       "</table>\n",
       "</div>"
      ],
      "text/plain": [
       "   permno company_name       date  total_returns    price  share_outstanding\n",
       "0   10001   ENERGY INC 2009-12-31       0.162621  10.3000               4361\n",
       "1   10001   ENERGY INC 2010-01-31      -0.018932  10.0600               4361\n",
       "2   10001   ENERGY INC 2010-02-28      -0.000656  10.0084               4361\n",
       "3   10001   ENERGY INC 2010-03-31       0.020643  10.1700               4361\n",
       "4   10001   ENERGY INC 2010-04-30       0.124385  11.3900               6070"
      ]
     },
     "execution_count": 197,
     "metadata": {},
     "output_type": "execute_result"
    }
   ],
   "source": [
    "# Reloading the dataset analyzed above (shortcut to parse the dates while reading the data)\n",
    "df = pd.read_csv(\"stock_data.csv\",sep = ',',parse_dates=['date'])\n",
    "\n",
    "# Converting any letters into NaN\n",
    "df['price'] = pd.to_numeric(df['price'],errors='coerce')\n",
    "df['total_returns'] = pd.to_numeric(df['total_returns'],errors='coerce')\n",
    "\n",
    "df.head()"
   ]
  },
  {
   "cell_type": "code",
   "execution_count": null,
   "metadata": {},
   "outputs": [],
   "source": []
  },
  {
   "cell_type": "code",
   "execution_count": 184,
   "metadata": {},
   "outputs": [
    {
     "data": {
      "text/html": [
       "<div>\n",
       "<style scoped>\n",
       "    .dataframe tbody tr th:only-of-type {\n",
       "        vertical-align: middle;\n",
       "    }\n",
       "\n",
       "    .dataframe tbody tr th {\n",
       "        vertical-align: top;\n",
       "    }\n",
       "\n",
       "    .dataframe thead th {\n",
       "        text-align: right;\n",
       "    }\n",
       "</style>\n",
       "<table border=\"1\" class=\"dataframe\">\n",
       "  <thead>\n",
       "    <tr style=\"text-align: right;\">\n",
       "      <th></th>\n",
       "      <th>price</th>\n",
       "    </tr>\n",
       "    <tr>\n",
       "      <th>permno</th>\n",
       "      <th></th>\n",
       "    </tr>\n",
       "  </thead>\n",
       "  <tbody>\n",
       "    <tr>\n",
       "      <th>10001</th>\n",
       "      <td>1.626120</td>\n",
       "    </tr>\n",
       "    <tr>\n",
       "      <th>10006</th>\n",
       "      <td>1.743590</td>\n",
       "    </tr>\n",
       "    <tr>\n",
       "      <th>10014</th>\n",
       "      <td>3.166667</td>\n",
       "    </tr>\n",
       "    <tr>\n",
       "      <th>10028</th>\n",
       "      <td>19.650000</td>\n",
       "    </tr>\n",
       "    <tr>\n",
       "      <th>10029</th>\n",
       "      <td>1.333333</td>\n",
       "    </tr>\n",
       "    <tr>\n",
       "      <th>10042</th>\n",
       "      <td>23.268571</td>\n",
       "    </tr>\n",
       "    <tr>\n",
       "      <th>10048</th>\n",
       "      <td>2.475410</td>\n",
       "    </tr>\n",
       "    <tr>\n",
       "      <th>10051</th>\n",
       "      <td>34.754902</td>\n",
       "    </tr>\n",
       "    <tr>\n",
       "      <th>10057</th>\n",
       "      <td>6.232558</td>\n",
       "    </tr>\n",
       "    <tr>\n",
       "      <th>10064</th>\n",
       "      <td>9.289474</td>\n",
       "    </tr>\n",
       "    <tr>\n",
       "      <th>10066</th>\n",
       "      <td>73.437500</td>\n",
       "    </tr>\n",
       "    <tr>\n",
       "      <th>10071</th>\n",
       "      <td>2.980769</td>\n",
       "    </tr>\n",
       "    <tr>\n",
       "      <th>10085</th>\n",
       "      <td>5.583396</td>\n",
       "    </tr>\n",
       "    <tr>\n",
       "      <th>10092</th>\n",
       "      <td>25.963636</td>\n",
       "    </tr>\n",
       "    <tr>\n",
       "      <th>10102</th>\n",
       "      <td>3.099099</td>\n",
       "    </tr>\n",
       "    <tr>\n",
       "      <th>10104</th>\n",
       "      <td>1.479207</td>\n",
       "    </tr>\n",
       "    <tr>\n",
       "      <th>10108</th>\n",
       "      <td>2.865226</td>\n",
       "    </tr>\n",
       "    <tr>\n",
       "      <th>10116</th>\n",
       "      <td>8.333333</td>\n",
       "    </tr>\n",
       "    <tr>\n",
       "      <th>10119</th>\n",
       "      <td>2.702128</td>\n",
       "    </tr>\n",
       "    <tr>\n",
       "      <th>10120</th>\n",
       "      <td>3.441860</td>\n",
       "    </tr>\n",
       "    <tr>\n",
       "      <th>10123</th>\n",
       "      <td>11.678571</td>\n",
       "    </tr>\n",
       "    <tr>\n",
       "      <th>10125</th>\n",
       "      <td>5.875000</td>\n",
       "    </tr>\n",
       "    <tr>\n",
       "      <th>10126</th>\n",
       "      <td>1.497525</td>\n",
       "    </tr>\n",
       "    <tr>\n",
       "      <th>10137</th>\n",
       "      <td>9.143573</td>\n",
       "    </tr>\n",
       "  </tbody>\n",
       "</table>\n",
       "</div>"
      ],
      "text/plain": [
       "            price\n",
       "permno           \n",
       "10001    1.626120\n",
       "10006    1.743590\n",
       "10014    3.166667\n",
       "10028   19.650000\n",
       "10029    1.333333\n",
       "10042   23.268571\n",
       "10048    2.475410\n",
       "10051   34.754902\n",
       "10057    6.232558\n",
       "10064    9.289474\n",
       "10066   73.437500\n",
       "10071    2.980769\n",
       "10085    5.583396\n",
       "10092   25.963636\n",
       "10102    3.099099\n",
       "10104    1.479207\n",
       "10108    2.865226\n",
       "10116    8.333333\n",
       "10119    2.702128\n",
       "10120    3.441860\n",
       "10123   11.678571\n",
       "10125    5.875000\n",
       "10126    1.497525\n",
       "10137    9.143573"
      ]
     },
     "execution_count": 184,
     "metadata": {},
     "output_type": "execute_result"
    }
   ],
   "source": [
    "# Defining a function that we want to apply on the dataframe\n",
    "(df.groupby(['permno'])[['date','price']]).apply(lambda x : x.max()/x.min())"
   ]
  },
  {
   "cell_type": "code",
   "execution_count": 180,
   "metadata": {},
   "outputs": [
    {
     "data": {
      "text/html": [
       "<div>\n",
       "<style scoped>\n",
       "    .dataframe tbody tr th:only-of-type {\n",
       "        vertical-align: middle;\n",
       "    }\n",
       "\n",
       "    .dataframe tbody tr th {\n",
       "        vertical-align: top;\n",
       "    }\n",
       "\n",
       "    .dataframe thead th {\n",
       "        text-align: right;\n",
       "    }\n",
       "</style>\n",
       "<table border=\"1\" class=\"dataframe\">\n",
       "  <thead>\n",
       "    <tr style=\"text-align: right;\">\n",
       "      <th></th>\n",
       "      <th>price</th>\n",
       "    </tr>\n",
       "    <tr>\n",
       "      <th>permno</th>\n",
       "      <th></th>\n",
       "    </tr>\n",
       "  </thead>\n",
       "  <tbody>\n",
       "    <tr>\n",
       "      <th>10001</th>\n",
       "      <td>1.852647</td>\n",
       "    </tr>\n",
       "    <tr>\n",
       "      <th>10006</th>\n",
       "      <td>1.846491</td>\n",
       "    </tr>\n",
       "    <tr>\n",
       "      <th>10014</th>\n",
       "      <td>3.166667</td>\n",
       "    </tr>\n",
       "    <tr>\n",
       "      <th>10028</th>\n",
       "      <td>33.220847</td>\n",
       "    </tr>\n",
       "    <tr>\n",
       "      <th>10029</th>\n",
       "      <td>2.041667</td>\n",
       "    </tr>\n",
       "  </tbody>\n",
       "</table>\n",
       "</div>"
      ],
      "text/plain": [
       "            price\n",
       "permno           \n",
       "10001    1.852647\n",
       "10006    1.846491\n",
       "10014    3.166667\n",
       "10028   33.220847\n",
       "10029    2.041667"
      ]
     },
     "execution_count": 180,
     "metadata": {},
     "output_type": "execute_result"
    }
   ],
   "source": [
    "def random_function(x):\n",
    "    if x['date'].dt.month<=3:return x['price'].max()/x['price'].min()\n",
    "\n",
    "df.groupby('permno')[['price']].apply(random_function).head()"
   ]
  },
  {
   "cell_type": "code",
   "execution_count": null,
   "metadata": {},
   "outputs": [],
   "source": [
    "# Creating a custom function \n",
    "def modify_return(x):\n",
    "    return (x.mean()-x.median())/x.std()"
   ]
  },
  {
   "cell_type": "code",
   "execution_count": null,
   "metadata": {},
   "outputs": [],
   "source": [
    "df.groupby('permno')[['total_returns']].apply(lambda x : modify_return(x))"
   ]
  },
  {
   "cell_type": "code",
   "execution_count": null,
   "metadata": {},
   "outputs": [],
   "source": [
    "# Apply function along the rows\n",
    "#df[['price','share_outstanding']].apply(lambda x : x['price']*x['share_outstanding'],axis=1)"
   ]
  },
  {
   "cell_type": "markdown",
   "metadata": {},
   "source": [
    "# Plotting"
   ]
  },
  {
   "cell_type": "code",
   "execution_count": 186,
   "metadata": {},
   "outputs": [],
   "source": [
    "import matplotlib.pyplot as plt"
   ]
  },
  {
   "cell_type": "code",
   "execution_count": 187,
   "metadata": {},
   "outputs": [],
   "source": [
    "# Defining our two arrays \n",
    "x = np.linspace(-10,10,21)\n",
    "y = x**2"
   ]
  },
  {
   "cell_type": "code",
   "execution_count": 196,
   "metadata": {},
   "outputs": [
    {
     "data": {
      "image/png": "[encoded data removed]",
      "text/plain": [
       "<Figure size 432x288 with 1 Axes>"
      ]
     },
     "metadata": {
      "needs_background": "light"
     },
     "output_type": "display_data"
    }
   ],
   "source": [
    "plt.plot(x,y,'--',color='red',alpha=0.5)\n",
    "plt.title(\"My First Plot\")\n",
    "\n",
    "plt.show()\n",
    "# The x-axis is the default y-index\n",
    "# First line above the plot (image location)\n",
    "# Include x in the second part of plot\n",
    "# Include label and legend\n",
    "# Include plt.show to remove the first line \n",
    "# Change line color\n",
    "# Add a Z variable\n",
    "# Change line width\n",
    "# Change line transparency using alpha\n",
    "# Change line type by adding '--'\n",
    "# Add title\n",
    "# Add x-label\n",
    "# Add x-ticks\n",
    "# Save figure"
   ]
  },
  {
   "cell_type": "code",
   "execution_count": 206,
   "metadata": {},
   "outputs": [
    {
     "data": {
      "text/plain": [
       "<matplotlib.axes._subplots.AxesSubplot at 0x1e5ed36ec18>"
      ]
     },
     "execution_count": 206,
     "metadata": {},
     "output_type": "execute_result"
    },
    {
     "data": {
      "image/png": "[encoded data removed]",
      "text/plain": [
       "<Figure size 432x288 with 1 Axes>"
      ]
     },
     "metadata": {
      "needs_background": "light"
     },
     "output_type": "display_data"
    }
   ],
   "source": [
    "# We can also plot directly from pandas\n",
    "df[df['permno']<=10029].groupby(['date','permno'])['total_returns'].mean().unstack().cumsum().plot()"
   ]
  },
  {
   "cell_type": "markdown",
   "metadata": {},
   "source": [
    "### Subplots"
   ]
  },
  {
   "cell_type": "code",
   "execution_count": null,
   "metadata": {},
   "outputs": [],
   "source": [
    "fig,ax = plt.subplots(2,2)\n",
    "\n",
    "# Randomly defining 4 y-variables for subplots\n",
    "x = np.linspace(-10,10,21)\n",
    "y1 = np.exp(x)\n",
    "y2 = np.sin(x)\n",
    "y3 = np.power(x,3)\n",
    "y4 = 10*x**2\n",
    "\n",
    "# First subplot\n",
    "ax[0,0].plot(x,y1)\n",
    "\n",
    "# Second subplot\n",
    "ax[0,1].plot(x,y2)\n",
    "\n",
    "# Third subplot\n",
    "ax[1,0].plot(x,y3)\n",
    "\n",
    "# Fourth subplot\n",
    "ax[1,1].plot(x,y4)\n",
    "\n",
    "plt.show()"
   ]
  },
  {
   "cell_type": "markdown",
   "metadata": {},
   "source": [
    "# Good Programming Practices\n",
    "\n",
    "- Thinking through the problem before writing code is the secret. Once you have sufficiently thought through the problem, the code writes itself!\n",
    "- Understanding that every program operates along multiple complexities - Time and Space complexities are the most common\n",
    "- Making your code readable. Readable code that gives wrong output is better than an un-readable code that gives the right output.\n",
    "- Setting your seed when you simulate random variables (very important for generating reproducible results).\n",
    "- When coding up functions, make sure you give it a doc string and specify the input variable type. If there is a way for your code to break, something will eventually cause it to break.\n",
    "- Commenting your code and adding doc-strings to your functions is very important when you want to revisit your code to understand what it does. It's easier to read through the comments than through code.\n",
    "- Creating versions of your code (you might be interested in a Git repository). \n",
    "- Avoiding loops as much as you can and running efficient loops by vectorizing. \n",
    "- Although you feel smart when you nest multiple operations/functions on an object, long-run it is better to write one/two commands per line of code.\n",
    "\n",
    "# Advanced Python Topics\n",
    "\n",
    "- Git repository and Github\n",
    "- Pandas - Multi index, pivot, melt, stack/unstack, pickle, concat \n",
    "- Numpy - LinAlg library, random variable distributions\n",
    "- Matplotlib - 3D plots, interactive plots\n",
    "- Multiprocessing (parallel computing)\n",
    "- SQLite3 with Python\n",
    "- Memoization\n",
    "- Inheritance, Sub-classes, and meta-classes\n",
    "- Map, Reduce, and Filter\n",
    "- Tensors\n",
    "- NumBa (easily handles extremely large data sets)\n",
    "- Logging and RaiseError for Exception Handling"
   ]
  },
  {
   "cell_type": "code",
   "execution_count": 210,
   "metadata": {},
   "outputs": [
    {
     "name": "stdout",
     "output_type": "stream",
     "text": [
      "3\n",
      "5\n",
      "7\n",
      "9\n"
     ]
    }
   ],
   "source": [
    "ds = pd.Series([1,2,3,4,5])\n",
    "k=1\n",
    "while k < len(ds):\n",
    "    print(ds[k]+ds[k-1])\n",
    "    k=k+1"
   ]
  },
  {
   "cell_type": "code",
   "execution_count": null,
   "metadata": {},
   "outputs": [],
   "source": []
  },
  {
   "cell_type": "markdown",
   "metadata": {},
   "source": [
    "# Take Home Questions\n",
    "\n",
    "- **List Comprehension**: First generate a list using the range(20) function. Next, create a second list that calculates $0.5 \\cdot n \\cdot (n+1)$ for each item $n$ in the first list. Solve this using a while loop and also the list comprehension method. Check if the outputs match for the two methods.\n",
    "\n",
    "- **Lambda function**: Create a numpy array of integers from 1 to 50. Use the lambda function to compute $x^3+x^2+x+1$ for each element $x$ of the array. Compare your output using the list comprehension method.\n",
    "\n",
    "- **For Loop**: Create a list with range(50). Return $x^3+x^2+x+1$ for every element $x$ in the list with an exception that for the last 5 elements return $x^4+x^3+x^2+x+1$. Use a for loop to do this operation. *Hint*: You might want to read up on \"enumerate\" and how that can be used with a for loop.\n",
    "\n",
    "- **List comprehension with logical statements**: First generate a list using the range(30) function. Next, create a second list that creates elements based on the logic below. *Hint*: You can do this by including an if statement inside your list comprehension.\n",
    "\n",
    "$$\n",
    "f(x)=\\begin{cases}\n",
    "x^2    , & \\text{if x is even}\\\\\n",
    "x^3 , & \\text{if x is odd}\n",
    "\\end{cases}\n",
    "$$\n",
    "\n",
    "- **Fibonacci sequence**: Construct a function \"fibonacci\" that takes in the required variable integer \"$n$\" and returns the $n_{th}$ term in a Fibonacci sequence (1,1,2,3,5,...). For example, if your call your function and pass in the argument n = 6, i.e fibonacci(n=6) it should return the value 8. You can use a for or a while loop inside your function. Print the function output for n=30, 50, and 100. \n",
    "\n",
    "- **Net Present Value**: Code up a function that computes the net present value of a stream of cash-flows and call this function NPV. The function will take three inputs - cash-flows, dates, and interest rate (constant). We will use the formula specified below to compute the NPV of a stream of cash-flows on specific dates. The time periods $t_1,t_2,..,t_N$ are computed as differences from first date. Make sure you annualize the difference in days (convert them to years). Check out this wikipedia link if you want to read up some more (https://en.wikipedia.org/wiki/Net_present_value). \n",
    "\n",
    "$$NPV(CF) = CF_0 + \\frac{CF_1}{(1+r)^{t_1}} + \\frac{CF_2}{(1+r)^{t_2}} + ... \\frac{CF_N}{(1+r)^{t_N}}$$\n",
    "\n",
    "Run this function for the following input \n",
    "\n",
    "$$\\text{Compute : } \\text{NPV}(\\text{CF} = \\text{[-100,50,40,30]},\\text{date} = [\\text{01-Jan-2020,31-Mar-2021,30-Jun-2021,31-Dec-2024}],r=0.05)$$\n",
    "\n",
    "- **Pandas .rolling()** is a very useful function to know (check out the doc string of pandas.Series.rolling for a better understanding of what the function does). In this problem, we will calculate the 1-year rolling sum of returns for the data in *stock_data.csv* file. Clean the data (remove strings and drop NaN values). Use the pandas rolling function (window=12) to calculate the sum of 1-year returns. Add this column to the original dataframe. \n",
    "\n",
    "- **Combining Pandas apply and lambda functions**: Load and clean the stock_data.csv file. Compute the market cap by multiplying the price and outstanding shares. You need to segregate PERMNOs into large-cap, mid-cap, and small-cap stocks. First, you have to write a function that takes in a value $x$ (market cap) as an input. For segregating use the following criteria mentioned below. Use the pandas apply along with lambda function, to pass the function pass you have just coded up.\n",
    "\n",
    "$$\n",
    "f(x)=\\begin{cases}\n",
    "\\text{small cap}    , & \\text{if x} < 100000\\\\\n",
    "\\text{mid cap}    , & 100000 \\le \\text{if x} < 1000000\\\\\n",
    "\\text{large cap} , & \\text{if x} \\ge  1000000\n",
    "\\end{cases}\n",
    "$$\n",
    "\n",
    "- **Plot and Subplots**: For the 4 PERMNOs - (10137, 10051, 10057, 10028), calculate the cumulative sum of returns and plot them in a 4-by-4 sub plot. Also, plot all their cumulative sum of returns in one plot. *Hint*: To compute the cumulative sum, you can use the .cumsum() function of pandas. You can also use the .plot() function of pandas dataframe instead of using matplotlib's plt function.\n",
    "\n",
    "- **(optional) Memoization**: A simple way to create a fibonacci sequence without using loops is by coding it as shown in the code chunk below. Carefully understand how this function does the same job as your function that you coded above. "
   ]
  },
  {
   "cell_type": "code",
   "execution_count": 122,
   "metadata": {},
   "outputs": [
    {
     "name": "stdout",
     "output_type": "stream",
     "text": [
      "0 0\n",
      "1 4\n",
      "2 8\n",
      "3 12\n",
      "4 16\n",
      "5 20\n",
      "6 24\n",
      "7 28\n",
      "8 32\n",
      "9 36\n",
      "10 40\n",
      "11 44\n",
      "12 48\n",
      "13 52\n",
      "14 56\n",
      "15 60\n",
      "16 64\n",
      "17 68\n",
      "18 72\n",
      "19 76\n",
      "20 80\n",
      "21 84\n",
      "22 88\n",
      "23 92\n",
      "24 96\n",
      "25 100\n",
      "26 104\n",
      "27 108\n",
      "28 112\n",
      "29 116\n",
      "30 120\n",
      "31 124\n",
      "32 128\n",
      "33 132\n",
      "34 136\n",
      "35 140\n",
      "36 144\n",
      "37 148\n",
      "38 152\n",
      "39 156\n",
      "40 160\n",
      "41 164\n",
      "42 168\n",
      "43 172\n",
      "44 176\n",
      "45 180\n",
      "46 184\n",
      "47 188\n",
      "48 192\n",
      "49 196\n"
     ]
    }
   ],
   "source": [
    "def fibonacci(n):\n",
    "    \"\"\"Function takes input integer 'n' and returns the n-th sequence of the fibonacci series\"\"\"\n",
    "    if n<=2 : return(1)\n",
    "    else : return fibonacci(n-1)+fibonacci(n-2)\n",
    "    #return 4*n\n",
    "    \n",
    "for n in range(50):\n",
    "    print(n,fibonacci(n))"
   ]
  },
  {
   "cell_type": "markdown",
   "metadata": {},
   "source": [
    "First, create a range of values of $n$ from 1 to 50 and loop this function over the possible integer values of $n$. What do you observe? Why does the loop start laboring after n=30? \n",
    "\n",
    "Second, we will start storing our computations of fibonacci function in a dictionary and use the function for computing previously un-computed values of the function. We can do this by using the new function \"fibonacci_new\" coded below - "
   ]
  },
  {
   "cell_type": "code",
   "execution_count": 115,
   "metadata": {},
   "outputs": [
    {
     "name": "stdout",
     "output_type": "stream",
     "text": [
      "0 1\n",
      "1 1\n",
      "2 1\n",
      "3 2\n",
      "4 3\n",
      "5 5\n",
      "6 8\n",
      "7 13\n",
      "8 21\n",
      "9 34\n",
      "10 55\n",
      "11 89\n",
      "12 144\n",
      "13 233\n",
      "14 377\n",
      "15 610\n",
      "16 987\n",
      "17 1597\n",
      "18 2584\n",
      "19 4181\n",
      "20 6765\n",
      "21 10946\n",
      "22 17711\n",
      "23 28657\n",
      "24 46368\n",
      "25 75025\n",
      "26 121393\n",
      "27 196418\n",
      "28 317811\n",
      "29 514229\n",
      "30 832040\n",
      "31 1346269\n",
      "32 2178309\n",
      "33 3524578\n",
      "34 5702887\n",
      "35 9227465\n",
      "36 14930352\n",
      "37 24157817\n",
      "38 39088169\n",
      "39 63245986\n",
      "40 102334155\n",
      "41 165580141\n",
      "42 267914296\n",
      "43 433494437\n",
      "44 701408733\n",
      "45 1134903170\n",
      "46 1836311903\n",
      "47 2971215073\n",
      "48 4807526976\n",
      "49 7778742049\n"
     ]
    }
   ],
   "source": [
    "# Task 3 - creating a Fibonacci sequence without using loops (using Memoization)\n",
    "fibonacci_store = {}\n",
    "\n",
    "def fibonacci_new(n):\n",
    "    \"\"\"Function takes input integer 'n' and returns the n-th sequence of the fibonacci series (with memoization)\"\"\"\n",
    "    \n",
    "    # Checking if the value n is in our cache\n",
    "    if n in fibonacci_store : return fibonacci_store[n]\n",
    "    \n",
    "    # If not, then calculate the n-th value\n",
    "    if n <= 2 : return 1\n",
    "    else : \n",
    "        value = fibonacci_new(n-1)+fibonacci_new(n-2)\n",
    "        fibonacci_store[n] = value # Storing the newly computed value of the function in our dictionary\n",
    "        return value\n",
    "    \n",
    "for n in range(50):\n",
    "    print(n,fibonacci_new(n))"
   ]
  },
  {
   "cell_type": "code",
   "execution_count": 123,
   "metadata": {},
   "outputs": [
    {
     "name": "stdout",
     "output_type": "stream",
     "text": [
      "[120 160 200]\n"
     ]
    }
   ],
   "source": [
    "my_array = np.array([30,40,50])\n",
    "lambda_fun = (lambda x : fibonacci(x))\n",
    "print(lambda_fun(my_array))\n"
   ]
  },
  {
   "cell_type": "markdown",
   "metadata": {},
   "source": [
    "Again create a range of values for $n$ from 1 to 50 and loop this new function over the possible integer values of $n$. What do you observe now? Why is this function not struggling unlike the \"fibonacci()\" function? \n",
    "\n",
    "Our actions of creating a dictionary and storing the values is coded up for us in the form of an inbuilt function in Python. This will involve importing the function \"lru_cache\" from the library \"functools\" as shown below. You can test this function below like you have tested the first fibonacci function. What do you observe?"
   ]
  },
  {
   "cell_type": "code",
   "execution_count": 116,
   "metadata": {},
   "outputs": [
    {
     "name": "stdout",
     "output_type": "stream",
     "text": [
      "0 1\n",
      "1 1\n",
      "2 1\n",
      "3 2\n",
      "4 3\n",
      "5 5\n",
      "6 8\n",
      "7 13\n",
      "8 21\n",
      "9 34\n",
      "10 55\n",
      "11 89\n",
      "12 144\n",
      "13 233\n",
      "14 377\n",
      "15 610\n",
      "16 987\n",
      "17 1597\n",
      "18 2584\n",
      "19 4181\n",
      "20 6765\n",
      "21 10946\n",
      "22 17711\n",
      "23 28657\n",
      "24 46368\n",
      "25 75025\n",
      "26 121393\n",
      "27 196418\n",
      "28 317811\n",
      "29 514229\n",
      "30 832040\n",
      "31 1346269\n",
      "32 2178309\n",
      "33 3524578\n",
      "34 5702887\n",
      "35 9227465\n",
      "36 14930352\n",
      "37 24157817\n",
      "38 39088169\n",
      "39 63245986\n",
      "40 102334155\n",
      "41 165580141\n",
      "42 267914296\n",
      "43 433494437\n",
      "44 701408733\n",
      "45 1134903170\n",
      "46 1836311903\n",
      "47 2971215073\n",
      "48 4807526976\n",
      "49 7778742049\n"
     ]
    }
   ],
   "source": [
    "from functools import lru_cache\n",
    "\n",
    "@lru_cache(maxsize=1000)\n",
    "def fibonacci(n):\n",
    "    \"\"\"Function takes input integer 'n' and returns the n-th sequence of the fibonacci series (no loops & no memoization)\"\"\"\n",
    "    if n <= 2 : return 1\n",
    "    else : return fibonacci(n-1)+fibonacci(n-2)\n",
    "\n",
    "for n in range(50):\n",
    "    print(n,fibonacci(n))"
   ]
  },
  {
   "cell_type": "code",
   "execution_count": null,
   "metadata": {},
   "outputs": [],
   "source": []
  },
  {
   "cell_type": "code",
   "execution_count": null,
   "metadata": {},
   "outputs": [],
   "source": []
  },
  {
   "cell_type": "code",
   "execution_count": 69,
   "metadata": {},
   "outputs": [
    {
     "name": "stdout",
     "output_type": "stream",
     "text": [
      "[0.0, 1.0, 3.0, 6.0, 10.0, 15.0, 21.0, 28.0, 36.0, 45.0, 55.0, 66.0, 78.0, 91.0, 105.0, 120.0, 136.0, 153.0, 171.0, 190.0]\n",
      "True\n"
     ]
    }
   ],
   "source": [
    "# Question 1\n",
    "lc = [0.5*n*(n+1) for n in range(20)]\n",
    "store = []\n",
    "for n in range(20):store.append(0.5*n*(n+1))\n",
    "print(lc)\n",
    "print(lc==store)"
   ]
  },
  {
   "cell_type": "code",
   "execution_count": 70,
   "metadata": {},
   "outputs": [
    {
     "name": "stdout",
     "output_type": "stream",
     "text": [
      "True\n",
      "[1, 4, 15, 40, 85, 156, 259, 400, 585, 820, 1111, 1464, 1885, 2380, 2955, 3616, 4369, 5220, 6175, 7240, 8421, 9724, 11155, 12720, 14425, 16276, 18279, 20440, 22765, 25260, 27931, 30784, 33825, 37060, 40495, 44136, 47989, 52060, 56355, 60880, 65641, 70644, 75895, 81400, 87165, 93196, 99499, 106080, 112945, 120100]\n"
     ]
    }
   ],
   "source": [
    "# Question 2\n",
    "temp_function = lambda x : x**3+x**2+x+1\n",
    "lc1 = [temp_function(x) for x in range(50)]\n",
    "\n",
    "lc2 = [x**3+x**2+x+1 for x in range(50)]\n",
    "\n",
    "print(lc1==lc2)\n",
    "print(lc1)"
   ]
  },
  {
   "cell_type": "code",
   "execution_count": 73,
   "metadata": {},
   "outputs": [
    {
     "name": "stdout",
     "output_type": "stream",
     "text": [
      "[1, 4, 15, 40, 85, 156, 259, 400, 585, 820, 1111, 1464, 1885, 2380, 2955, 3616, 4369, 5220, 6175, 7240, 8421, 9724, 11155, 12720, 14425, 406901, 475255, 551881, 637421, 732541]\n"
     ]
    }
   ],
   "source": [
    "# Question 3\n",
    "list1 = list(range(30))\n",
    "store = []\n",
    "for i,value in enumerate(list1):\n",
    "    if i<len(list1)-5: store.append(value**3+value**2+value+1)\n",
    "    else: store.append(value**4+value**3+value**2+value+1)\n",
    "        \n",
    "print(store)"
   ]
  },
  {
   "cell_type": "code",
   "execution_count": 27,
   "metadata": {},
   "outputs": [
    {
     "name": "stdout",
     "output_type": "stream",
     "text": [
      "[0, 1, 4, 27, 16, 125, 36, 343, 64, 729, 100, 1331, 144, 2197, 196, 3375, 256, 4913, 324, 6859, 400, 9261, 484, 12167, 576, 15625, 676, 19683, 784, 24389]\n"
     ]
    }
   ],
   "source": [
    "# Question 4\n",
    "print([(lambda x : x**2 if x%2 == 0 else x**3)(x) for x in range(30)])"
   ]
  },
  {
   "cell_type": "code",
   "execution_count": 76,
   "metadata": {},
   "outputs": [
    {
     "name": "stdout",
     "output_type": "stream",
     "text": [
      "[0, 1, 4, 27, 16, 125, 36, 343, 64, 729, 100, 1331, 144, 2197, 196, 3375, 256, 4913, 324, 6859, 400, 9261, 484, 12167, 576, 15625, 676, 19683, 784, 24389]\n"
     ]
    }
   ],
   "source": [
    "print([x**2 if x % 2 == 0 else x**3 for x in range(30)])"
   ]
  },
  {
   "cell_type": "code",
   "execution_count": 77,
   "metadata": {},
   "outputs": [
    {
     "data": {
      "text/plain": [
       "7.7368450230694705"
      ]
     },
     "execution_count": 77,
     "metadata": {},
     "output_type": "execute_result"
    }
   ],
   "source": [
    "# Question 6\n",
    "def npv(rate,date,cf):\n",
    "    \"\"\"Function Calculates the NPV of CF given dates\"\"\"\n",
    "    d0 = min(date)\n",
    "    # Using the list comprehension method to compute \n",
    "    return sum([ vi / np.power((1.0 + rate),((di - d0).days / 365.0)) for vi, di in zip(cf, date)])\n",
    "\n",
    "cf = np.array([-100,50,40,30])\n",
    "date = pd.to_datetime(pd.Series(['01-Jan-2020','31-Mar-2021','30-Jun-2021','31-Dec-2024']))\n",
    "npv(0.05,date,cf)"
   ]
  },
  {
   "cell_type": "code",
   "execution_count": null,
   "metadata": {},
   "outputs": [],
   "source": []
  },
  {
   "cell_type": "code",
   "execution_count": null,
   "metadata": {},
   "outputs": [],
   "source": [
    "pd.MultiIndex"
   ]
  },
  {
   "cell_type": "code",
   "execution_count": 87,
   "metadata": {},
   "outputs": [
    {
     "name": "stdout",
     "output_type": "stream",
     "text": [
      "          date  total_returns\n",
      "312 1998-11-30       0.281250\n",
      "313 1998-12-31       0.487805\n",
      "314 1999-01-31       0.147541\n",
      "315 1999-02-28      -0.428571\n",
      "316 1999-03-31       0.600000\n",
      "317 1999-04-30      -0.281250\n",
      "318 1999-05-31       0.391304\n",
      "319 2007-10-31       0.661944\n",
      "320 2007-11-30      -0.093205\n",
      "321 2007-12-31      -0.018692\n",
      "322 2008-01-31      -0.104762\n",
      "323 2008-02-29       0.148936\n",
      "324 2008-03-31      -0.066667\n",
      "325 2008-04-30      -0.198413\n",
      "326 2008-05-31       0.068564\n",
      "327 2008-06-30      -0.323604\n",
      "328 2008-07-31       0.163767\n",
      "329 2008-08-31      -0.073039\n",
      "330 2008-09-30      -0.184127\n",
      "331 2008-10-31      -0.334630\n"
     ]
    },
    {
     "data": {
      "image/png": "[encoded data removed]",
      "text/plain": [
       "<Figure size 432x288 with 1 Axes>"
      ]
     },
     "metadata": {
      "needs_background": "light"
     },
     "output_type": "display_data"
    }
   ],
   "source": [
    "# Question 7\n",
    "# Reloading the dataset analyzed above (shortcut to parse the dates while reading the data)\n",
    "import pandas as pd\n",
    "df = pd.read_csv(\"stock_data.csv\",sep = ',',parse_dates=['date'])\n",
    "\n",
    "# Converting any letters into NaN\n",
    "df['price'] = pd.to_numeric(df['price'],errors='coerce')\n",
    "df['total_returns'] = pd.to_numeric(df['total_returns'],errors='coerce')\n",
    "df['date'] = pd.to_datetime(df['date'],errors='coerce')\n",
    "df = df.dropna().reset_index(drop=True)\n",
    "\n",
    "# How to handle 10028 and 10051?\n",
    "df[df['permno']==10028].set_index('date')['total_returns'].plot()\n",
    "print(df[df['permno']==10028][['date','total_returns']].iloc[80:100,:])"
   ]
  },
  {
   "cell_type": "code",
   "execution_count": 99,
   "metadata": {},
   "outputs": [
    {
     "data": {
      "text/html": [
       "<div>\n",
       "<style scoped>\n",
       "    .dataframe tbody tr th:only-of-type {\n",
       "        vertical-align: middle;\n",
       "    }\n",
       "\n",
       "    .dataframe tbody tr th {\n",
       "        vertical-align: top;\n",
       "    }\n",
       "\n",
       "    .dataframe thead th {\n",
       "        text-align: right;\n",
       "    }\n",
       "</style>\n",
       "<table border=\"1\" class=\"dataframe\">\n",
       "  <thead>\n",
       "    <tr style=\"text-align: right;\">\n",
       "      <th></th>\n",
       "      <th>date</th>\n",
       "      <th>permno</th>\n",
       "      <th>rolling_returns</th>\n",
       "    </tr>\n",
       "  </thead>\n",
       "  <tbody>\n",
       "    <tr>\n",
       "      <th>1396</th>\n",
       "      <td>1998-12-31</td>\n",
       "      <td>10028</td>\n",
       "      <td>0.501718</td>\n",
       "    </tr>\n",
       "    <tr>\n",
       "      <th>1405</th>\n",
       "      <td>1999-01-31</td>\n",
       "      <td>10028</td>\n",
       "      <td>0.626532</td>\n",
       "    </tr>\n",
       "    <tr>\n",
       "      <th>1414</th>\n",
       "      <td>1999-02-28</td>\n",
       "      <td>10028</td>\n",
       "      <td>0.220183</td>\n",
       "    </tr>\n",
       "    <tr>\n",
       "      <th>1423</th>\n",
       "      <td>1999-03-31</td>\n",
       "      <td>10028</td>\n",
       "      <td>0.911092</td>\n",
       "    </tr>\n",
       "    <tr>\n",
       "      <th>1432</th>\n",
       "      <td>1999-04-30</td>\n",
       "      <td>10028</td>\n",
       "      <td>0.579842</td>\n",
       "    </tr>\n",
       "    <tr>\n",
       "      <th>1441</th>\n",
       "      <td>1999-05-31</td>\n",
       "      <td>10028</td>\n",
       "      <td>0.923527</td>\n",
       "    </tr>\n",
       "    <tr>\n",
       "      <th>2183</th>\n",
       "      <td>2008-09-30</td>\n",
       "      <td>10028</td>\n",
       "      <td>-0.019298</td>\n",
       "    </tr>\n",
       "    <tr>\n",
       "      <th>2187</th>\n",
       "      <td>2008-10-31</td>\n",
       "      <td>10028</td>\n",
       "      <td>-1.015872</td>\n",
       "    </tr>\n",
       "    <tr>\n",
       "      <th>2191</th>\n",
       "      <td>2008-11-30</td>\n",
       "      <td>10028</td>\n",
       "      <td>-1.191673</td>\n",
       "    </tr>\n",
       "    <tr>\n",
       "      <th>2195</th>\n",
       "      <td>2008-12-31</td>\n",
       "      <td>10028</td>\n",
       "      <td>-0.812981</td>\n",
       "    </tr>\n",
       "    <tr>\n",
       "      <th>2199</th>\n",
       "      <td>2009-01-31</td>\n",
       "      <td>10028</td>\n",
       "      <td>-0.899395</td>\n",
       "    </tr>\n",
       "    <tr>\n",
       "      <th>2203</th>\n",
       "      <td>2009-02-28</td>\n",
       "      <td>10028</td>\n",
       "      <td>-1.430149</td>\n",
       "    </tr>\n",
       "    <tr>\n",
       "      <th>2207</th>\n",
       "      <td>2009-03-31</td>\n",
       "      <td>10028</td>\n",
       "      <td>-1.363482</td>\n",
       "    </tr>\n",
       "    <tr>\n",
       "      <th>2211</th>\n",
       "      <td>2009-04-30</td>\n",
       "      <td>10028</td>\n",
       "      <td>-0.988598</td>\n",
       "    </tr>\n",
       "    <tr>\n",
       "      <th>2215</th>\n",
       "      <td>2009-05-31</td>\n",
       "      <td>10028</td>\n",
       "      <td>-1.087162</td>\n",
       "    </tr>\n",
       "    <tr>\n",
       "      <th>2219</th>\n",
       "      <td>2009-06-30</td>\n",
       "      <td>10028</td>\n",
       "      <td>-0.629537</td>\n",
       "    </tr>\n",
       "    <tr>\n",
       "      <th>2223</th>\n",
       "      <td>2009-07-31</td>\n",
       "      <td>10028</td>\n",
       "      <td>-0.938759</td>\n",
       "    </tr>\n",
       "    <tr>\n",
       "      <th>2227</th>\n",
       "      <td>2009-08-31</td>\n",
       "      <td>10028</td>\n",
       "      <td>-0.550826</td>\n",
       "    </tr>\n",
       "    <tr>\n",
       "      <th>2231</th>\n",
       "      <td>2009-09-30</td>\n",
       "      <td>10028</td>\n",
       "      <td>-0.221068</td>\n",
       "    </tr>\n",
       "    <tr>\n",
       "      <th>2235</th>\n",
       "      <td>2009-10-31</td>\n",
       "      <td>10028</td>\n",
       "      <td>0.172884</td>\n",
       "    </tr>\n",
       "  </tbody>\n",
       "</table>\n",
       "</div>"
      ],
      "text/plain": [
       "           date  permno  rolling_returns\n",
       "1396 1998-12-31   10028         0.501718\n",
       "1405 1999-01-31   10028         0.626532\n",
       "1414 1999-02-28   10028         0.220183\n",
       "1423 1999-03-31   10028         0.911092\n",
       "1432 1999-04-30   10028         0.579842\n",
       "1441 1999-05-31   10028         0.923527\n",
       "2183 2008-09-30   10028        -0.019298\n",
       "2187 2008-10-31   10028        -1.015872\n",
       "2191 2008-11-30   10028        -1.191673\n",
       "2195 2008-12-31   10028        -0.812981\n",
       "2199 2009-01-31   10028        -0.899395\n",
       "2203 2009-02-28   10028        -1.430149\n",
       "2207 2009-03-31   10028        -1.363482\n",
       "2211 2009-04-30   10028        -0.988598\n",
       "2215 2009-05-31   10028        -1.087162\n",
       "2219 2009-06-30   10028        -0.629537\n",
       "2223 2009-07-31   10028        -0.938759\n",
       "2227 2009-08-31   10028        -0.550826\n",
       "2231 2009-09-30   10028        -0.221068\n",
       "2235 2009-10-31   10028         0.172884"
      ]
     },
     "execution_count": 99,
     "metadata": {},
     "output_type": "execute_result"
    }
   ],
   "source": [
    "# Creating a new dataframe with unstacked returns for each date and each permno\n",
    "df2 = df.groupby(['date','permno'])['total_returns'].mean().unstack()\n",
    "\n",
    "# Computing the rolling returns\n",
    "df2 = df2.rolling(window=12).sum().stack().reset_index().rename(columns={0:'rolling_returns'})\n",
    "\n",
    "# Printing the output and ensuring it is doing what we think its doing!\n",
    "df2[df2['permno']==10028].iloc[70:90]"
   ]
  },
  {
   "cell_type": "code",
   "execution_count": null,
   "metadata": {},
   "outputs": [],
   "source": [
    "# Merging this new dataframe onto our original dataframe\n",
    "df = df.merge(df2,on=['permno','date'],how='left')"
   ]
  },
  {
   "cell_type": "code",
   "execution_count": 102,
   "metadata": {},
   "outputs": [
    {
     "data": {
      "text/html": [
       "<div>\n",
       "<style scoped>\n",
       "    .dataframe tbody tr th:only-of-type {\n",
       "        vertical-align: middle;\n",
       "    }\n",
       "\n",
       "    .dataframe tbody tr th {\n",
       "        vertical-align: top;\n",
       "    }\n",
       "\n",
       "    .dataframe thead th {\n",
       "        text-align: right;\n",
       "    }\n",
       "</style>\n",
       "<table border=\"1\" class=\"dataframe\">\n",
       "  <thead>\n",
       "    <tr style=\"text-align: right;\">\n",
       "      <th></th>\n",
       "      <th>permno</th>\n",
       "      <th>company_name</th>\n",
       "      <th>date</th>\n",
       "      <th>total_returns</th>\n",
       "      <th>price</th>\n",
       "      <th>share_outstanding</th>\n",
       "      <th>market_cap</th>\n",
       "      <th>market_cap_name</th>\n",
       "    </tr>\n",
       "  </thead>\n",
       "  <tbody>\n",
       "    <tr>\n",
       "      <th>0</th>\n",
       "      <td>10001</td>\n",
       "      <td>ENERGY INC</td>\n",
       "      <td>2009-12-31</td>\n",
       "      <td>0.162621</td>\n",
       "      <td>10.3000</td>\n",
       "      <td>4361</td>\n",
       "      <td>44918.3000</td>\n",
       "      <td>small cap</td>\n",
       "    </tr>\n",
       "    <tr>\n",
       "      <th>1</th>\n",
       "      <td>10001</td>\n",
       "      <td>ENERGY INC</td>\n",
       "      <td>2010-01-31</td>\n",
       "      <td>-0.018932</td>\n",
       "      <td>10.0600</td>\n",
       "      <td>4361</td>\n",
       "      <td>43871.6600</td>\n",
       "      <td>small cap</td>\n",
       "    </tr>\n",
       "    <tr>\n",
       "      <th>2</th>\n",
       "      <td>10001</td>\n",
       "      <td>ENERGY INC</td>\n",
       "      <td>2010-02-28</td>\n",
       "      <td>-0.000656</td>\n",
       "      <td>10.0084</td>\n",
       "      <td>4361</td>\n",
       "      <td>43646.6324</td>\n",
       "      <td>small cap</td>\n",
       "    </tr>\n",
       "    <tr>\n",
       "      <th>3</th>\n",
       "      <td>10001</td>\n",
       "      <td>ENERGY INC</td>\n",
       "      <td>2010-03-31</td>\n",
       "      <td>0.020643</td>\n",
       "      <td>10.1700</td>\n",
       "      <td>4361</td>\n",
       "      <td>44351.3700</td>\n",
       "      <td>small cap</td>\n",
       "    </tr>\n",
       "    <tr>\n",
       "      <th>4</th>\n",
       "      <td>10001</td>\n",
       "      <td>ENERGY INC</td>\n",
       "      <td>2010-04-30</td>\n",
       "      <td>0.124385</td>\n",
       "      <td>11.3900</td>\n",
       "      <td>6070</td>\n",
       "      <td>69137.3000</td>\n",
       "      <td>small cap</td>\n",
       "    </tr>\n",
       "  </tbody>\n",
       "</table>\n",
       "</div>"
      ],
      "text/plain": [
       "   permno company_name       date  total_returns    price  share_outstanding  \\\n",
       "0   10001   ENERGY INC 2009-12-31       0.162621  10.3000               4361   \n",
       "1   10001   ENERGY INC 2010-01-31      -0.018932  10.0600               4361   \n",
       "2   10001   ENERGY INC 2010-02-28      -0.000656  10.0084               4361   \n",
       "3   10001   ENERGY INC 2010-03-31       0.020643  10.1700               4361   \n",
       "4   10001   ENERGY INC 2010-04-30       0.124385  11.3900               6070   \n",
       "\n",
       "   market_cap market_cap_name  \n",
       "0  44918.3000       small cap  \n",
       "1  43871.6600       small cap  \n",
       "2  43646.6324       small cap  \n",
       "3  44351.3700       small cap  \n",
       "4  69137.3000       small cap  "
      ]
     },
     "execution_count": 102,
     "metadata": {},
     "output_type": "execute_result"
    }
   ],
   "source": [
    "# Question 8\n",
    "def sort(x):\n",
    "    \"\"\"Function takes in the market cap values and sorts it into small/medium/large market caps\"\"\"\n",
    "    if x<100000:return \"small cap\"\n",
    "    elif (x>=100000 and x<1000000):return \"mid cap\"\n",
    "    else : return \"large cap\"\n",
    "\n",
    "# Loading our dataframe again\n",
    "df = pd.read_csv(\"stock_data.csv\",sep = ',',parse_dates=['date'])\n",
    "\n",
    "# Converting any letters into NaN\n",
    "df['price'] = pd.to_numeric(df['price'],errors='coerce')\n",
    "df['total_returns'] = pd.to_numeric(df['total_returns'],errors='coerce')\n",
    "df['date'] = pd.to_datetime(df['date'],errors='coerce')\n",
    "df = df.dropna().reset_index(drop=True)\n",
    "\n",
    "# Computing market cap\n",
    "df['market_cap'] = df['price']*df['share_outstanding']\n",
    "\n",
    "# Segregating market cap into 3 buckets using function above\n",
    "df['market_cap_name'] = df['market_cap'].apply(lambda x : sort(x))\n",
    "\n",
    "df.head()"
   ]
  },
  {
   "cell_type": "code",
   "execution_count": 111,
   "metadata": {},
   "outputs": [
    {
     "data": {
      "text/plain": [
       "<matplotlib.axes._subplots.AxesSubplot at 0x216aca9c320>"
      ]
     },
     "execution_count": 111,
     "metadata": {},
     "output_type": "execute_result"
    },
    {
     "data": {
      "image/png": "[encoded data removed]",
      "text/plain": [
       "<Figure size 432x288 with 1 Axes>"
      ]
     },
     "metadata": {
      "needs_background": "light"
     },
     "output_type": "display_data"
    }
   ],
   "source": [
    "# Question 9\n",
    "# We can use the isin function in pandas to filter and select specific PERMNOs\n",
    "df = df[df['permno'].isin([10137, 10051, 10057, 10028])]\n",
    "\n",
    "# Computing cumulative sum of returns\n",
    "df.groupby(['date','permno'])['total_returns'].cumsum().plot()\n"
   ]
  },
  {
   "cell_type": "code",
   "execution_count": 110,
   "metadata": {},
   "outputs": [
    {
     "data": {
      "image/png": "[encoded data removed]",
      "text/plain": [
       "<Figure size 432x288 with 4 Axes>"
      ]
     },
     "metadata": {
      "needs_background": "light"
     },
     "output_type": "display_data"
    }
   ],
   "source": [
    "import matplotlib.pyplot as plt\n",
    "fig,ax = plt.subplots(2,2)\n",
    "\n",
    "ax[0,0].plot(df2[10137])\n",
    "ax[0,1].plot(df2[10051])\n",
    "ax[1,0].plot(df2[10057])\n",
    "ax[1,1].plot(df2[10028])\n",
    "\n",
    "plt.show()"
   ]
  },
  {
   "cell_type": "code",
   "execution_count": null,
   "metadata": {},
   "outputs": [],
   "source": []
  },
  {
   "cell_type": "code",
   "execution_count": null,
   "metadata": {},
   "outputs": [],
   "source": []
  },
  {
   "cell_type": "code",
   "execution_count": 23,
   "metadata": {},
   "outputs": [
    {
     "data": {
      "text/plain": [
       "[<matplotlib.lines.Line2D at 0x216a4edf668>]"
      ]
     },
     "execution_count": 23,
     "metadata": {},
     "output_type": "execute_result"
    },
    {
     "data": {
      "image/png": "[encoded data removed]",
      "text/plain": [
       "<Figure size 432x288 with 1 Axes>"
      ]
     },
     "metadata": {
      "needs_background": "light"
     },
     "output_type": "display_data"
    }
   ],
   "source": [
    "# Heads (frequency interpretation)\n",
    "import numpy as np\n",
    "import matplotlib.pyplot as plt\n",
    "np.random.seed(1)\n",
    "toss = np.random.randint(low=0,high=2,size=100000)\n",
    "experiments = np.linspace(1,len(toss),len(toss))\n",
    "#print(toss)\n",
    "#print(experiments)\n",
    "plt.plot(np.cumsum(toss)/experiments)"
   ]
  }
 ],
 "metadata": {
  "kernelspec": {
   "display_name": "Python 3",
   "language": "python",
   "name": "python3"
  },
  "language_info": {
   "codemirror_mode": {
    "name": "ipython",
    "version": 3
   },
   "file_extension": ".py",
   "mimetype": "text/x-python",
   "name": "python",
   "nbconvert_exporter": "python",
   "pygments_lexer": "ipython3",
   "version": "3.7.3"
  }
 },
 "nbformat": 4,
 "nbformat_minor": 2
}
